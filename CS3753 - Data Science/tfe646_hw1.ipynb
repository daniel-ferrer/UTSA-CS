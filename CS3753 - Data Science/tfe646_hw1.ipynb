{
 "cells": [
  {
   "cell_type": "code",
   "execution_count": 25,
   "metadata": {},
   "outputs": [
    {
     "name": "stdout",
     "output_type": "stream",
     "text": [
      "Welcome to Python Programming\n",
      "Python\n",
      "mming\n",
      "Welcome to Python Programming!!!\n"
     ]
    }
   ],
   "source": [
    "str = \"Welcome to Python Programming\"\n",
    "print(str)\n",
    "print(str[11:17])\n",
    "print(str[-5:])\n",
    "str += \"!!!\"\n",
    "print(str)"
   ]
  },
  {
   "cell_type": "code",
   "execution_count": 26,
   "metadata": {},
   "outputs": [
    {
     "name": "stdout",
     "output_type": "stream",
     "text": [
      "[1, 2, 3, 4]\n",
      "[1, 2, 3, 4, (5, 6)]\n",
      "[1, 2, 3, 4, (5, 6), ['perfect', 'wonderful']]\n",
      "[1, 2, 3, 4, (5, 6), ['perfect', 'wonderful'], [[7, 8], [9, 10]]]\n",
      "[1, 2, 3, 4, (5, 6), ['perfect', 'wonderful'], [[7, 8], [9, 10]], 8.5, 7, 'code', 'software']\n",
      "[[[7, 8], [9, 10]], 8.5, 7, 'code', 'software']\n",
      "[1, 2, 3, 8.5, 7, 'code', 'software']\n"
     ]
    }
   ],
   "source": [
    "my_list = []\n",
    "my_list.append(1)\n",
    "my_list.append(2)\n",
    "my_list.append(3)\n",
    "my_list.append(4)\n",
    "print(my_list)\n",
    "my_list.append((5, 6))\n",
    "print(my_list)\n",
    "my_list.append(['perfect', 'wonderful'])\n",
    "print(my_list)\n",
    "my_list.append([[7,8], [9,10]])\n",
    "print(my_list)\n",
    "my_list.extend([8.5, 7, 'code', 'software'])\n",
    "print(my_list)\n",
    "print(my_list[-5:])\n",
    "del my_list[3:7]\n",
    "print(my_list)"
   ]
  },
  {
   "cell_type": "code",
   "execution_count": 27,
   "metadata": {},
   "outputs": [
    {
     "name": "stdout",
     "output_type": "stream",
     "text": [
      "(1, 2, 3, 4)\n",
      "('Python', 'for', 'kids')\n",
      "(1, 2, 3, 4, 'Python', 'for', 'kids')\n",
      "(4, 'Python', 'for', 'kids')\n"
     ]
    }
   ],
   "source": [
    "Tuple1 = tuple([1, 2, 3, 4])\n",
    "print(Tuple1)\n",
    "Tuple2 = ('Python', 'for', 'kids')\n",
    "print(Tuple2)\n",
    "Tuple1 = tuple(Tuple1 + Tuple2)\n",
    "print(Tuple1)\n",
    "print(Tuple1[3:])"
   ]
  },
  {
   "cell_type": "code",
   "execution_count": 29,
   "metadata": {},
   "outputs": [
    {
     "name": "stdout",
     "output_type": "stream",
     "text": [
      "{0: 'Python', 1: 'Programming', 2: 'Funny'}\n",
      "{0: 'Python', 1: 'is very', 2: 'Funny'}\n",
      "dict_keys([0, 1, 2])\n",
      "['Python', 'is very', 'Funny']\n",
      "{0: 'Python', 1: 'is very'}\n",
      "False\n",
      "['Python', 'is very']\n"
     ]
    }
   ],
   "source": [
    "Dict = {}\n",
    "Dict[0] = 'Python'\n",
    "Dict[1] = 'Programming'\n",
    "Dict[2] = 'Funny'\n",
    "print(Dict)\n",
    "Dict[1] = 'is very'\n",
    "print(Dict)\n",
    "print(Dict.keys())\n",
    "print(Dict.values())\n",
    "Dict.pop(2)\n",
    "print(Dict)\n",
    "print(2 in Dict.keys())\n",
    "print(list(Dict.values()))"
   ]
  }
 ],
 "metadata": {
  "interpreter": {
   "hash": "916dbcbb3f70747c44a77c7bcd40155683ae19c65e1c03b4aa3499c5328201f1"
  },
  "kernelspec": {
   "display_name": "Python 3.8.10 64-bit",
   "language": "python",
   "name": "python3"
  },
  "language_info": {
   "codemirror_mode": {
    "name": "ipython",
    "version": 3
   },
   "file_extension": ".py",
   "mimetype": "text/x-python",
   "name": "python",
   "nbconvert_exporter": "python",
   "pygments_lexer": "ipython3",
   "version": "3.8.10"
  },
  "orig_nbformat": 4
 },
 "nbformat": 4,
 "nbformat_minor": 2
}
